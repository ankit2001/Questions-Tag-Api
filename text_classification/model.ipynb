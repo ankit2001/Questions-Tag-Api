{
  "nbformat": 4,
  "nbformat_minor": 0,
  "metadata": {
    "colab": {
      "name": "NLP1",
      "provenance": [],
      "private_outputs": true,
      "collapsed_sections": []
    },
    "kernelspec": {
      "name": "python3",
      "display_name": "Python 3"
    },
    "accelerator": "GPU"
  },
  "cells": [
    {
      "cell_type": "code",
      "metadata": {
        "id": "zjm0vEu31mLN",
        "colab_type": "code",
        "colab": {}
      },
      "source": [
        "try:\n",
        "    import google.colab\n",
        "    IN_COLAB = True\n",
        "except:\n",
        "    IN_COLAB = False\n",
        "\n",
        "if IN_COLAB:\n",
        "    ! wget https://raw.githubusercontent.com/hse-aml/natural-language-processing/master/setup_google_colab.py -O setup_google_colab.py\n",
        "    import setup_google_colab\n",
        "    setup_google_colab.setup_week1() \n",
        "    \n",
        "import sys\n",
        "sys.path.append(\"..\")\n",
        "from common.download_utils import download_week1_resources\n",
        "\n",
        "download_week1_resources()"
      ],
      "execution_count": null,
      "outputs": []
    },
    {
      "cell_type": "code",
      "metadata": {
        "id": "QVVuaevc1_mB",
        "colab_type": "code",
        "colab": {}
      },
      "source": [
        "from grader import Grader"
      ],
      "execution_count": null,
      "outputs": []
    },
    {
      "cell_type": "code",
      "metadata": {
        "id": "qxIvRrJm2qP2",
        "colab_type": "code",
        "colab": {}
      },
      "source": [
        "grader = Grader()\n"
      ],
      "execution_count": null,
      "outputs": []
    },
    {
      "cell_type": "code",
      "metadata": {
        "id": "yFFFW1UW2trB",
        "colab_type": "code",
        "colab": {}
      },
      "source": [
        "import nltk\n",
        "nltk.download('stopwords')\n",
        "from nltk.corpus import stopwords"
      ],
      "execution_count": null,
      "outputs": []
    },
    {
      "cell_type": "code",
      "metadata": {
        "id": "58cobVP42xuL",
        "colab_type": "code",
        "colab": {}
      },
      "source": [
        "from ast import literal_eval\n",
        "import pandas as pd\n",
        "import numpy as np\n",
        "from scipy import sparse as sp_sparse"
      ],
      "execution_count": null,
      "outputs": []
    },
    {
      "cell_type": "code",
      "metadata": {
        "id": "0aPamGgO23rE",
        "colab_type": "code",
        "colab": {}
      },
      "source": [
        "def read_data(file):\n",
        "  data = pd.read_csv(file, sep = '\\t')\n",
        "  data['tags'] = data['tags'].apply(literal_eval)\n",
        "  return data"
      ],
      "execution_count": null,
      "outputs": []
    },
    {
      "cell_type": "code",
      "metadata": {
        "id": "HHBeKcII3EMK",
        "colab_type": "code",
        "colab": {}
      },
      "source": [
        "train = read_data('data/train.tsv')\n",
        "validation = read_data('data/validation.tsv')\n",
        "test = pd.read_csv('data/test.tsv', sep='\\t')\n",
        "train.head()"
      ],
      "execution_count": null,
      "outputs": []
    },
    {
      "cell_type": "code",
      "metadata": {
        "id": "IrIvu4LQ3Vcv",
        "colab_type": "code",
        "colab": {}
      },
      "source": [
        "X_train, Y_train = train['title'].values, train['tags'].values\n",
        "X_val, Y_val = validation['title'].values, validation['tags'].values\n",
        "X_test = test['title'].values\n",
        "print(X_train)"
      ],
      "execution_count": null,
      "outputs": []
    },
    {
      "cell_type": "code",
      "metadata": {
        "id": "nc00V-rE3pf4",
        "colab_type": "code",
        "colab": {}
      },
      "source": [
        "import re"
      ],
      "execution_count": null,
      "outputs": []
    },
    {
      "cell_type": "code",
      "metadata": {
        "id": "bzfF4WhF-2GQ",
        "colab_type": "code",
        "colab": {}
      },
      "source": [
        "REPLACE_BY_SPACE_RE = re.compile('[/(){}\\[\\]\\|@,;]')\n",
        "#print(REPLACE_BY_SPACE_RE)\n",
        "BAD_SYMBOLS_RE = re.compile('[^0-9a-z #+_]')\n",
        "Stopwords = set(stopwords.words('english'))\n",
        "STOPWORDS = dict()\n",
        "for i in Stopwords:\n",
        "  STOPWORDS[i] = 1\n",
        "for i in Stopwords:\n",
        "  print(i)"
      ],
      "execution_count": null,
      "outputs": []
    },
    {
      "cell_type": "code",
      "metadata": {
        "id": "ePbnibzq-8us",
        "colab_type": "code",
        "colab": {}
      },
      "source": [
        "def text_prepare(text):\n",
        "  text = text.lower()\n",
        "  text = REPLACE_BY_SPACE_RE.sub(\" \", text)\n",
        "  text = BAD_SYMBOLS_RE.sub(\"\", text)\n",
        "  text = text.split()\n",
        "  #print(text)\n",
        "  arr = []\n",
        "  for i in text:\n",
        "    if STOPWORDS.get(i) == None:\n",
        "      arr.append(i)\n",
        "  text = \" \".join(arr)\n",
        "  return text"
      ],
      "execution_count": null,
      "outputs": []
    },
    {
      "cell_type": "code",
      "metadata": {
        "id": "bmj9t55WCGtE",
        "colab_type": "code",
        "colab": {}
      },
      "source": [
        "def test_text_prepare():\n",
        "    examples = [\"SQL Server - any equivalent of Excel's CHOOSE function?\",\n",
        "                \"How to free c++ memory vector<int> * arr?\"]\n",
        "    answers = [\"sql server equivalent excels choose function\", \n",
        "               \"free c++ memory vectorint arr\"]\n",
        "    for ex, ans in zip(examples, answers):\n",
        "      # print(\"ankit\")\n",
        "       # print(text_prepare(ex))\n",
        "        if text_prepare(ex) != ans:\n",
        "            return \"Wrong answer for the case: '%s'\" % ex\n",
        "    return 'Basic tests are passed.'"
      ],
      "execution_count": null,
      "outputs": []
    },
    {
      "cell_type": "code",
      "metadata": {
        "id": "1PJzW6nNCNI2",
        "colab_type": "code",
        "colab": {}
      },
      "source": [
        "print(test_text_prepare())\n"
      ],
      "execution_count": null,
      "outputs": []
    },
    {
      "cell_type": "code",
      "metadata": {
        "id": "gphxvJcJCQL2",
        "colab_type": "code",
        "colab": {}
      },
      "source": [
        "prepared_questions = []\n",
        "for line in open('data/text_prepare_tests.tsv', encoding='utf-8'):\n",
        "    line = text_prepare(line.strip())\n",
        "    prepared_questions.append(line)\n",
        "text_prepare_results = '\\n'.join(prepared_questions)\n",
        "\n",
        "grader.submit_tag('TextPrepare', text_prepare_results)"
      ],
      "execution_count": null,
      "outputs": []
    },
    {
      "cell_type": "code",
      "metadata": {
        "id": "NBXajYr1PYiz",
        "colab_type": "code",
        "colab": {}
      },
      "source": [
        "X_train = [text_prepare(x) for x in X_train]\n",
        "X_val = [text_prepare(x) for x in X_val]\n",
        "X_test = [text_prepare(x) for x in X_test]"
      ],
      "execution_count": null,
      "outputs": []
    },
    {
      "cell_type": "code",
      "metadata": {
        "id": "wtbNi2rTQEY0",
        "colab_type": "code",
        "colab": {}
      },
      "source": [
        "X_train[:7]"
      ],
      "execution_count": null,
      "outputs": []
    },
    {
      "cell_type": "code",
      "metadata": {
        "id": "qMqlfLSQQIqy",
        "colab_type": "code",
        "colab": {}
      },
      "source": [
        "print(Y_train)"
      ],
      "execution_count": null,
      "outputs": []
    },
    {
      "cell_type": "code",
      "metadata": {
        "id": "2P4l6jPSQyLq",
        "colab_type": "code",
        "colab": {}
      },
      "source": [
        "tags_counts = {}\n",
        "words_counts = {}\n",
        "for i in Y_train:\n",
        "  for x in i:\n",
        "    #print(x)\n",
        "    if tags_counts.get(x) == None:\n",
        "      tags_counts[x] = 1\n",
        "    else:\n",
        "      tags_counts[x] += 1\n",
        "\n",
        "for i in X_train:\n",
        "  for x in i.split():\n",
        "    if words_counts.get(x) == None:\n",
        "      words_counts[x] = 1\n",
        "    else:\n",
        "      words_counts[x] += 1\n",
        "\n",
        "print(tags_counts)\n",
        "print(words_counts)"
      ],
      "execution_count": null,
      "outputs": []
    },
    {
      "cell_type": "code",
      "metadata": {
        "id": "1jAuzjVeQ7h2",
        "colab_type": "code",
        "colab": {}
      },
      "source": [
        "\n",
        "most_common_tags = sorted(tags_counts.items(), key=lambda x: x[1], reverse=True)[:3]\n",
        "most_common_words = sorted(words_counts.items(), key=lambda x: x[1], reverse=True)[:3]\n",
        "\n",
        "grader.submit_tag('WordsTagsCount', '%s\\n%s' % (','.join(tag for tag, _ in most_common_tags), \n",
        "                                                ','.join(word for word, _ in most_common_words)))\n",
        "print(most_common_tags)\n",
        "print(most_common_words)"
      ],
      "execution_count": null,
      "outputs": []
    },
    {
      "cell_type": "code",
      "metadata": {
        "id": "-ALT0dBCSSgF",
        "colab_type": "code",
        "colab": {}
      },
      "source": [
        "DICT_SIZE = 5000\n",
        "SORTED_WORDS = sorted(words_counts.items(), key = lambda x: x[1], reverse = True)[0:5000]\n",
        "print(SORTED_WORDS)"
      ],
      "execution_count": null,
      "outputs": []
    },
    {
      "cell_type": "code",
      "metadata": {
        "id": "EU6zn3jCQGJX",
        "colab_type": "code",
        "colab": {}
      },
      "source": [
        "WORDS_TO_INDEX = {}\n",
        "count = 0\n",
        "for i in SORTED_WORDS:\n",
        "  WORDS_TO_INDEX[i[0]] = count\n",
        "  count += 1\n",
        "print(WORDS_TO_INDEX)\n",
        "INDEX_TO_WORDS = {}\n",
        "for (i, j) in WORDS_TO_INDEX.items():\n",
        "  INDEX_TO_WORDS[j] = i\n",
        "print(INDEX_TO_WORDS)\n",
        "ALL_DIFF_WORDS = WORDS_TO_INDEX.keys()\n",
        "print(ALL_DIFF_WORDS)"
      ],
      "execution_count": null,
      "outputs": []
    },
    {
      "cell_type": "code",
      "metadata": {
        "id": "u3qp76NsQufy",
        "colab_type": "code",
        "colab": {}
      },
      "source": [
        "def my_bag_of_words(text, words_to_index, dict_size):\n",
        "  ans = np.zeros(dict_size, dtype = int)\n",
        "  #print(ans)\n",
        "  text = text.split()\n",
        "  #s = text_prepare(text).split()\n",
        "  for i in text:\n",
        "    if words_to_index.get(i) != None:\n",
        "      ans[words_to_index[i]] += 1\n",
        "  #print(ans)\n",
        "  return ans\n",
        "  "
      ],
      "execution_count": null,
      "outputs": []
    },
    {
      "cell_type": "code",
      "metadata": {
        "id": "WdAacqfnk__g",
        "colab_type": "code",
        "colab": {}
      },
      "source": [
        "def test_my_bag_of_words():\n",
        "    words_to_index = {'hi': 0, 'you': 1, 'me': 2, 'are': 3}\n",
        "    examples = ['hi how are you']\n",
        "    answers = [[1, 1, 0, 1]]\n",
        "    for ex, ans in zip(examples, answers):\n",
        "        if (my_bag_of_words(ex, words_to_index, 4) != ans).any():\n",
        "            return \"Wrong answer for the case: '%s'\" % ex\n",
        "    return 'Basic tests are passed.'"
      ],
      "execution_count": null,
      "outputs": []
    },
    {
      "cell_type": "code",
      "metadata": {
        "id": "TBM9KPOClDdL",
        "colab_type": "code",
        "colab": {}
      },
      "source": [
        "test_my_bag_of_words()"
      ],
      "execution_count": null,
      "outputs": []
    },
    {
      "cell_type": "code",
      "metadata": {
        "id": "6nskmZdjlGdT",
        "colab_type": "code",
        "colab": {}
      },
      "source": [
        "X_train_mybag = sp_sparse.vstack([sp_sparse.csr_matrix(my_bag_of_words(text, WORDS_TO_INDEX, DICT_SIZE)) for text in X_train])\n",
        "X_val_mybag = sp_sparse.vstack([sp_sparse.csr_matrix(my_bag_of_words(text, WORDS_TO_INDEX, DICT_SIZE)) for text in X_val])\n",
        "X_test_mybag = sp_sparse.vstack([sp_sparse.csr_matrix(my_bag_of_words(text, WORDS_TO_INDEX, DICT_SIZE)) for text in X_test])\n",
        "print('X_train shape ', X_train_mybag.shape)\n",
        "print('X_val shape ', X_val_mybag.shape)\n",
        "print('X_test shape ', X_test_mybag.shape)\n"
      ],
      "execution_count": null,
      "outputs": []
    },
    {
      "cell_type": "code",
      "metadata": {
        "id": "odDxQyrqo6BJ",
        "colab_type": "code",
        "colab": {}
      },
      "source": [
        "# m = X_train_mybag.toarray()\n",
        "# flag = 0\n",
        "# for i in m:\n",
        "#   for x in i:\n",
        "#     if x == 1:\n",
        "#       flag = 1\n",
        "# print(flag)\n",
        "# print(m)\n",
        "# print(X_val_mybag)\n",
        "# print(X_test_mybag)"
      ],
      "execution_count": null,
      "outputs": []
    },
    {
      "cell_type": "code",
      "metadata": {
        "id": "3W-Sp8Q1pMEr",
        "colab_type": "code",
        "colab": {}
      },
      "source": [
        "row = X_train_mybag[10].toarray()[0]\n",
        "non_zero_elements_count = 0\n",
        "for i in row:\n",
        "  if i != 0:\n",
        "    non_zero_elements_count += 1\n",
        "print(non_zero_elements_count)\n",
        "grader.submit_tag('BagOfWords', str(non_zero_elements_count))\n"
      ],
      "execution_count": null,
      "outputs": []
    },
    {
      "cell_type": "code",
      "metadata": {
        "id": "YnJ3O4netwqO",
        "colab_type": "code",
        "colab": {}
      },
      "source": [
        "from sklearn.feature_extraction.text import TfidfVectorizer"
      ],
      "execution_count": null,
      "outputs": []
    },
    {
      "cell_type": "code",
      "metadata": {
        "id": "u12Uk7zpvhoZ",
        "colab_type": "code",
        "colab": {}
      },
      "source": [
        "def tfidf_features(X_train, X_val, X_test):\n",
        "  tfidf_vectorizer = TfidfVectorizer(token_pattern = r'\\S+', ngram_range=(1,2), max_df=0.9, min_df=5,)\n",
        "  X = tfidf_vectorizer.fit(X_train)\n",
        "  print(tfidf_vectorizer.get_feature_names())\n",
        "  #X = tfidf_vectorizer.fit(X_train)\n",
        "  X_train = tfidf_vectorizer.transform(X_train)\n",
        "  X_val = tfidf_vectorizer.transform(X_val)\n",
        "  X_test = tfidf_vectorizer.transform(X_test)\n",
        "  return X_train, X_val, X_test, tfidf_vectorizer.vocabulary_"
      ],
      "execution_count": null,
      "outputs": []
    },
    {
      "cell_type": "code",
      "metadata": {
        "id": "n0i-8xwHxfuO",
        "colab_type": "code",
        "colab": {}
      },
      "source": [
        "X_train_tfidf, X_val_tfidf, X_test_tfidf, tfidf_vocab = tfidf_features(X_train, X_val, X_test)\n",
        "tfidf_reversed_vocab = {i:word for word,i in tfidf_vocab.items()}\n",
        "print(tfidf_reversed_vocab)\n",
        "count = 0\n",
        "for (i, x) in tfidf_reversed_vocab.items():\n",
        "  if x == \"c#\":\n",
        "    count += 1\n",
        "  if x == \"c++\":\n",
        "    count += 1\n",
        "print(count)\n",
        "#print(X_train_tfidf.toarray())\n",
        "print(tfidf_vocab[\"c++\"])\n",
        "print(tfidf_vocab[\"c#\"])"
      ],
      "execution_count": null,
      "outputs": []
    },
    {
      "cell_type": "code",
      "metadata": {
        "id": "Yw9miDq3xzRA",
        "colab_type": "code",
        "colab": {}
      },
      "source": [
        "from sklearn.preprocessing import MultiLabelBinarizer\n"
      ],
      "execution_count": null,
      "outputs": []
    },
    {
      "cell_type": "code",
      "metadata": {
        "id": "H8K6glp16e4p",
        "colab_type": "code",
        "colab": {}
      },
      "source": [
        "mlb = MultiLabelBinarizer(classes = sorted(tags_counts.keys()))\n",
        "print(sorted(tags_counts.keys()))\n",
        "Y_train = mlb.fit_transform(Y_train)\n",
        "Y_val = mlb.fit_transform(Y_val)\n",
        "print(Y_train)"
      ],
      "execution_count": null,
      "outputs": []
    },
    {
      "cell_type": "code",
      "metadata": {
        "id": "xGcL8m2U68us",
        "colab_type": "code",
        "colab": {}
      },
      "source": [
        "from sklearn.multiclass import OneVsRestClassifier\n",
        "from sklearn.linear_model import LogisticRegression"
      ],
      "execution_count": null,
      "outputs": []
    },
    {
      "cell_type": "code",
      "metadata": {
        "id": "6Zsqyt6-_Blv",
        "colab_type": "code",
        "colab": {}
      },
      "source": [
        "def train_classifier(X_train, Y_train):\n",
        "  class_clf = OneVsRestClassifier(LogisticRegression(random_state = 0, max_iter = 10000))\n",
        "  clf = class_clf.fit(X_train, Y_train)\n",
        "  return clf"
      ],
      "execution_count": null,
      "outputs": []
    },
    {
      "cell_type": "code",
      "metadata": {
        "id": "RV6SYOOTJeLH",
        "colab_type": "code",
        "colab": {}
      },
      "source": [
        "classifier_mybag = train_classifier(X_train_mybag, Y_train)\n",
        "classifier_tfidf = train_classifier(X_train_tfidf, Y_train)\n"
      ],
      "execution_count": null,
      "outputs": []
    },
    {
      "cell_type": "code",
      "metadata": {
        "id": "s1WVeq9HLRs6",
        "colab_type": "code",
        "colab": {}
      },
      "source": [
        "Y_val_predicted_labels_mybag = classifier_mybag.predict(X_val_mybag)\n",
        "Y_val_predicted_scores_mybag = classifier_mybag.decision_function(X_val_mybag)\n",
        "Y_val_predicted_labels_tfidf = classifier_tfidf.predict(X_val_tfidf)\n",
        "Y_val_predicted_scores_tfidf = classifier_tfidf.decision_function(X_val_tfidf)"
      ],
      "execution_count": null,
      "outputs": []
    },
    {
      "cell_type": "code",
      "metadata": {
        "id": "fbCfu-3xPcf8",
        "colab_type": "code",
        "colab": {}
      },
      "source": [
        "print(Y_val_predicted_labels_mybag)\n",
        "print(Y_val_predicted_labels_tfidf)"
      ],
      "execution_count": null,
      "outputs": []
    },
    {
      "cell_type": "code",
      "metadata": {
        "id": "wrWJ2PPmQH5g",
        "colab_type": "code",
        "colab": {}
      },
      "source": [
        "Y_val_pred_label_inverse = mlb.inverse_transform(Y_val_predicted_labels_tfidf)\n",
        "Y_val_true = mlb.inverse_transform(Y_val)\n",
        "print(Y_val_pred_label_inverse)\n",
        "print(Y_val_true)"
      ],
      "execution_count": null,
      "outputs": []
    },
    {
      "cell_type": "code",
      "metadata": {
        "id": "kt1p9ESxSdeu",
        "colab_type": "code",
        "colab": {}
      },
      "source": [
        "for i in range(60):\n",
        "  if len(Y_val_pred_label_inverse[i]) == 0:\n",
        "    Y_val_pred_label_inverse[i] = \"TEXT was nothing related to any language or related to many languages\"\n",
        "  print(\"TEXT : \" + str(X_val[i]))\n",
        "  print(\"PREDICTED TAGS BY MODEL : \" + str(Y_val_pred_label_inverse[i]))\n",
        "  print(\"TAG IT REALY HAD ON STACKOVERFLOW : \" + str(Y_val_true[i]))\n",
        "  print(\"\\n\")"
      ],
      "execution_count": null,
      "outputs": []
    },
    {
      "cell_type": "code",
      "metadata": {
        "id": "riL71cjtSw_u",
        "colab_type": "code",
        "colab": {}
      },
      "source": [
        ""
      ],
      "execution_count": null,
      "outputs": []
    }
  ]
}